{
 "cells": [
  {
   "cell_type": "code",
   "execution_count": 15,
   "metadata": {},
   "outputs": [],
   "source": [
    "import inspect\n",
    "import json\n",
    "import logging\n",
    "import os.path as path\n",
    "from json import loads\n",
    "from os import makedirs\n",
    "from pathlib import Path\n",
    "import csv\n",
    "import os\n",
    "import time\n",
    "import validators\n",
    "from bs4 import BeautifulSoup\n",
    "from pandas import DataFrame, read_csv, concat\n",
    "from requests import get, HTTPError\n",
    "from selenium import webdriver\n",
    "from selenium.webdriver.common.by import By\n",
    "from selenium.webdriver.support.ui import WebDriverWait\n",
    "from selenium.webdriver.support import expected_conditions as EC\n",
    "from selenium.webdriver.chrome.service import Service\n",
    "from selenium.webdriver.chrome.options import Options\n",
    "import urllib.request\n",
    "import re\n",
    "# Create a new instance of the chrome driver\n",
    "chrome_driver_path = r'C:/Users/tufan001/OneDrive - Wageningen University & Research/MIT/Food City/chromedriver.exe'\n",
    "\n",
    "# Go to the page that we want to scrape\n",
    "url = 'https://www.doordash.com/store/via-porta-new-york-2331530/?pickup=false' \n",
    "# Create a Service object\n",
    "service = Service(chrome_driver_path)\n",
    "# Create a WebDriver instance, passing the Service object\n",
    "initial_load_time = 2\n",
    "scroll_pause_time = 0.0001"
   ]
  },
  {
   "cell_type": "code",
   "execution_count": 16,
   "metadata": {},
   "outputs": [],
   "source": [
    "# Create a directory to save the images\n",
    "directory = 'newyork'\n",
    "os.makedirs(directory, exist_ok=True)"
   ]
  },
  {
   "cell_type": "code",
   "execution_count": 17,
   "metadata": {},
   "outputs": [],
   "source": [
    "# Wait until the element is present\n",
    "# Create a WebDriver instance, passing the Service object\n",
    "driver = webdriver.Chrome(service=service)\n",
    "driver.maximize_window()\n",
    "driver.get(url)\n",
    "time.sleep(3)\n",
    "\n",
    "\n"
   ]
  },
  {
   "cell_type": "code",
   "execution_count": 20,
   "metadata": {},
   "outputs": [
    {
     "ename": "AssertionError",
     "evalue": "",
     "output_type": "error",
     "traceback": [
      "\u001b[1;31m---------------------------------------------------------------------------\u001b[0m",
      "\u001b[1;31mAssertionError\u001b[0m                            Traceback (most recent call last)",
      "Cell \u001b[1;32mIn[20], line 31\u001b[0m\n\u001b[0;32m     28\u001b[0m original_window \u001b[39m=\u001b[39m driver\u001b[39m.\u001b[39mcurrent_window_handle\n\u001b[0;32m     30\u001b[0m \u001b[39m# Check we don't have other windows open already\u001b[39;00m\n\u001b[1;32m---> 31\u001b[0m \u001b[39massert\u001b[39;00m \u001b[39mlen\u001b[39m(driver\u001b[39m.\u001b[39mwindow_handles) \u001b[39m==\u001b[39m \u001b[39m1\u001b[39m\n\u001b[0;32m     33\u001b[0m \u001b[39m# Click the link which opens in a new window - google maps\u001b[39;00m\n\u001b[0;32m     34\u001b[0m driver\u001b[39m.\u001b[39mfind_element(By\u001b[39m.\u001b[39mCSS_SELECTOR, \u001b[39m\"\u001b[39m\u001b[39m.fgipDQ.fBaeps .kSwsod > button:nth-child(2)\u001b[39m\u001b[39m\"\u001b[39m)\u001b[39m.\u001b[39mclick()\n",
      "\u001b[1;31mAssertionError\u001b[0m: "
     ]
    }
   ],
   "source": [
    "\n",
    "opener = urllib.request.build_opener()\n",
    "opener.addheaders = [('User-agent', 'Mozilla/5.0 (Windows NT 10.0; Win64; x64) AppleWebKit/537.36 (KHTML, like Gecko) Chrome/58.0.3029.110 Safari/537')]\n",
    "urllib.request.install_opener(opener)\n",
    "if not os.path.exists('images'):\n",
    "    os.makedirs('images')\n",
    "opener = urllib.request.build_opener()\n",
    "opener.addheaders = [('User-agent', 'Mozilla/5.0 (Windows NT 10.0; Win64; x64) AppleWebKit/537.36 (KHTML, like Gecko) Chrome/58.0.3029.110 Safari/537')]\n",
    "urllib.request.install_opener(opener)\n",
    "\n",
    "# assuming driver is already setup\n",
    "name = driver.find_element(By.CSS_SELECTOR, '#__next > main > div > div.LayerManager__ChildrenContainer-sc-1k2ulq-0.gYRZjj > div > div.LayerManager__ChildrenContainer-sc-1k2ulq-0.gYRZjj > div.sc-ea0b8ed8-0.sc-93ccbd44-0.fgipDQ.fBaeps > div > div.sc-69ee586e-0.fIHkpi > div.sc-69ee586e-1.eYkXmh > div.sc-30ccff7d-0.cwDFbb > h1').text\n",
    "\n",
    "# Clean the restaurant name to use as a directory\n",
    "clean_name = re.sub(r'\\W+', '_', name).lower()\n",
    "\n",
    "# create a folder for each restaurant's menu\n",
    "menu_dir = os.path.join('menus', clean_name)\n",
    "os.makedirs(menu_dir, exist_ok=True)\n",
    "\n",
    "# create a folder for each restaurant's images\n",
    "img_dir = os.path.join(menu_dir, 'imgs')\n",
    "os.makedirs(img_dir, exist_ok=True)\n",
    "\n",
    "\n",
    "food_tags = driver.find_element(By.CSS_SELECTOR, '#__next > main > div > div.LayerManager__ChildrenContainer-sc-1k2ulq-0.gYRZjj > div > div.LayerManager__ChildrenContainer-sc-1k2ulq-0.gYRZjj > div.sc-ea0b8ed8-0.sc-93ccbd44-0.fgipDQ.fBaeps > div > div.sc-69ee586e-0.fIHkpi > div.sc-69ee586e-1.eYkXmh > div.sc-30ccff7d-0.cwDFbb > div > div > div.sc-e322ac6f-5.cAnXZy > div:nth-child(2) > span.styles__TextElement-sc-3qedjx-0.cmFuMx.sc-e322ac6f-4.ezjnHX').text\n",
    "\n",
    "# Store the ID of the original window\n",
    "original_window = driver.current_window_handle\n",
    "\n",
    "# Check we don't have other windows open already\n",
    "assert len(driver.window_handles) == 1\n",
    "\n",
    "# Click the link which opens in a new window - google maps\n",
    "driver.find_element(By.CSS_SELECTOR, \".fgipDQ.fBaeps .kSwsod > button:nth-child(2)\").click()\n",
    "new_window = driver.current_window_handle\n",
    "\n",
    "# Setup wait\n",
    "wait = WebDriverWait(driver, 10)\n",
    "# Wait for the new window or tab\n",
    "wait.until(EC.number_of_windows_to_be(2))\n",
    "\n",
    "# Get location from google maps page\n",
    "location = driver.find_element(By.CSS_SELECTOR, \".fgipDQ.fBaeps .kSwsod > button:nth-child(2)\").text\n",
    "\n",
    "#Switch back to the old tab or window restaurant page\n",
    "driver.switch_to.window(original_window)\n",
    "\n",
    "#food_tags = driver.find_element(By.CSS_SELECTOR, '#__next > main > div > div.LayerManager__ChildrenContainer-sc-1k2ulq-0.gYRZjj > div > div.LayerManager__ChildrenContainer-sc-1k2ulq-0.gYRZjj > div.sc-ea0b8ed8-0.sc-93ccbd44-0.fgipDQ.fBaeps > div > div.sc-69ee586e-0.fIHkpi > div.sc-69ee586e-1.eYkXmh > div.sc-30ccff7d-0.cwDFbb > div > div > div.sc-e322ac6f-5.cAnXZy > div:nth-child(2) > span.styles__TextElement-sc-3qedjx-0.cmFuMx.sc-e322ac6f-4.ezjnHX')\n",
    "\n",
    "buttons = driver.find_elements(By.CSS_SELECTOR, 'div.sc-fe74847b-1.cbxTOv > div > button')\n",
    "\n",
    "menu = {\n",
    "    \"name\": name,\n",
    "    \"location\": location,\n",
    "    \"food_tags\": food_tags,\n",
    "    \"menu_items\": []\n",
    "}\n",
    "\n",
    "# Iterate over the list of buttons and click each one\n",
    "for button in buttons:\n",
    "    button.click()\n",
    "    time.sleep(1)  # Wait for possible page load after clicking button\n",
    "\n",
    "    food_names = driver.find_elements(By.CSS_SELECTOR, \".sc-8370928c-0.kzJmQw h3\")\n",
    "    food_descriptions = driver.find_elements(By.CSS_SELECTOR, 'div.sc-8370928c-0.kzJmQw > div > span')\n",
    "    prices = driver.find_elements(By.CSS_SELECTOR, '.sc-8370928c-0.kzJmQw div.InlineChildren__StyledInlineChildren-sc-6r2tfo-0.dRqGTX > div > div > span > div > span')\n",
    "    imgs = driver.find_elements(By.CSS_SELECTOR, '.sc-31297892-1.hKyAGk > div > picture > img')\n",
    "\n",
    "    # Iterate over each image, food name, description and price, and print/store them\n",
    "    for food_name, food_description, price, img in zip(food_names, food_descriptions, prices, imgs):\n",
    "        image_link = img.get_attribute(\"src\")\n",
    "        print(f\"Food: {food_name.text}\")\n",
    "        print(f\"Description: {food_description.text}\")\n",
    "        print(f\"Price: {price.text}\")\n",
    "        print(f\"Image URL: {image_link}\")\n",
    "        \n",
    "                # This will keep only alphanumeric characters and underscores\n",
    "        clean_food_name = re.sub(r'\\W+', '_', food_name.text).lower()\n",
    "\n",
    "        filename = os.path.join(img_dir, f\"{clean_food_name}.jpg\")  # Ensure no illegal characters in filename\n",
    "        urllib.request.urlretrieve(image_link, filename)\n",
    "\n",
    "\n",
    "        menu_item = {\n",
    "            \"food_name\": food_name.text,\n",
    "            \"food_description\": food_description.text,\n",
    "            \"price\": price.text,\n",
    "            \"image_url\": image_link,\n",
    "        }\n",
    "        menu[\"menu_items\"].append(menu_item)\n",
    "\n",
    "# Here you could write the menu dict to a file, or do something else with it\n",
    "# Save the menu to a file inside the restaurant's directory\n",
    "with open(os.path.join(menu_dir, f\"{clean_name}.json\"), 'w') as f:\n",
    "    json.dump(menu, f)\n"
   ]
  },
  {
   "cell_type": "code",
   "execution_count": null,
   "metadata": {},
   "outputs": [],
   "source": []
  },
  {
   "cell_type": "code",
   "execution_count": null,
   "metadata": {},
   "outputs": [],
   "source": []
  },
  {
   "cell_type": "code",
   "execution_count": null,
   "metadata": {},
   "outputs": [],
   "source": []
  },
  {
   "cell_type": "code",
   "execution_count": null,
   "metadata": {},
   "outputs": [],
   "source": []
  },
  {
   "cell_type": "code",
   "execution_count": null,
   "metadata": {},
   "outputs": [],
   "source": []
  },
  {
   "cell_type": "code",
   "execution_count": null,
   "metadata": {},
   "outputs": [],
   "source": []
  },
  {
   "cell_type": "code",
   "execution_count": null,
   "metadata": {},
   "outputs": [],
   "source": []
  },
  {
   "cell_type": "code",
   "execution_count": null,
   "metadata": {},
   "outputs": [],
   "source": []
  },
  {
   "cell_type": "code",
   "execution_count": null,
   "metadata": {},
   "outputs": [],
   "source": []
  },
  {
   "cell_type": "code",
   "execution_count": null,
   "metadata": {},
   "outputs": [],
   "source": []
  },
  {
   "cell_type": "code",
   "execution_count": null,
   "metadata": {},
   "outputs": [],
   "source": []
  },
  {
   "cell_type": "code",
   "execution_count": null,
   "metadata": {},
   "outputs": [],
   "source": []
  },
  {
   "cell_type": "code",
   "execution_count": null,
   "metadata": {},
   "outputs": [],
   "source": []
  },
  {
   "cell_type": "code",
   "execution_count": null,
   "metadata": {},
   "outputs": [],
   "source": []
  },
  {
   "cell_type": "code",
   "execution_count": null,
   "metadata": {},
   "outputs": [],
   "source": []
  },
  {
   "cell_type": "code",
   "execution_count": null,
   "metadata": {},
   "outputs": [],
   "source": []
  },
  {
   "cell_type": "code",
   "execution_count": null,
   "metadata": {},
   "outputs": [],
   "source": []
  },
  {
   "cell_type": "code",
   "execution_count": null,
   "metadata": {},
   "outputs": [],
   "source": []
  },
  {
   "cell_type": "code",
   "execution_count": null,
   "metadata": {},
   "outputs": [],
   "source": []
  },
  {
   "attachments": {},
   "cell_type": "markdown",
   "metadata": {},
   "source": [
    "SEARCH BY CSS\n"
   ]
  },
  {
   "cell_type": "code",
   "execution_count": 44,
   "metadata": {},
   "outputs": [
    {
     "name": "stdout",
     "output_type": "stream",
     "text": [
      "Via Porta\n"
     ]
    }
   ],
   "source": [
    "# Find element by CSS selector\n",
    "name = driver.find_element(By.CSS_SELECTOR, '#__next > main > div > div.LayerManager__ChildrenContainer-sc-1k2ulq-0.gYRZjj > div > div.LayerManager__ChildrenContainer-sc-1k2ulq-0.gYRZjj > div.sc-ea0b8ed8-0.sc-93ccbd44-0.fgipDQ.fBaeps > div > div.sc-69ee586e-0.fIHkpi > div.sc-69ee586e-1.eYkXmh > div.sc-30ccff7d-0.cwDFbb > h1')\n",
    "\n",
    "print(name.text)"
   ]
  },
  {
   "cell_type": "code",
   "execution_count": 45,
   "metadata": {},
   "outputs": [],
   "source": [
    " # Store the ID of the original window\n",
    "original_window = driver.current_window_handle"
   ]
  },
  {
   "cell_type": "code",
   "execution_count": 46,
   "metadata": {},
   "outputs": [],
   "source": [
    "# Check we don't have other windows open already\n",
    "assert len(driver.window_handles) == 1"
   ]
  },
  {
   "cell_type": "code",
   "execution_count": 47,
   "metadata": {},
   "outputs": [],
   "source": [
    "# Click the link which opens in a new window - google maps\n",
    "driver.find_element(By.CSS_SELECTOR, \".fgipDQ.fBaeps .kSwsod > button:nth-child(2)\").click()\n",
    "new_window = driver.current_window_handle"
   ]
  },
  {
   "cell_type": "code",
   "execution_count": 48,
   "metadata": {},
   "outputs": [
    {
     "data": {
      "text/plain": [
       "True"
      ]
     },
     "execution_count": 48,
     "metadata": {},
     "output_type": "execute_result"
    }
   ],
   "source": [
    "# Setup wait for later\n",
    "wait = WebDriverWait(driver, 10)\n",
    "# Wait for the new window or tab\n",
    "wait.until(EC.number_of_windows_to_be(2))"
   ]
  },
  {
   "cell_type": "code",
   "execution_count": 49,
   "metadata": {},
   "outputs": [
    {
     "name": "stdout",
     "output_type": "stream",
     "text": [
      "522 Hudson Street\n",
      "New York, NY\n"
     ]
    }
   ],
   "source": [
    "# Get location from google maps page\n",
    "location = driver.find_element(By.CSS_SELECTOR, \".fgipDQ.fBaeps .kSwsod > button:nth-child(2)\")\n",
    "print(location.text)"
   ]
  },
  {
   "cell_type": "code",
   "execution_count": 50,
   "metadata": {},
   "outputs": [],
   "source": [
    "    #Switch back to the old tab or window restaurant page\n",
    "driver.switch_to.window(original_window)"
   ]
  },
  {
   "cell_type": "code",
   "execution_count": null,
   "metadata": {},
   "outputs": [],
   "source": []
  },
  {
   "cell_type": "code",
   "execution_count": null,
   "metadata": {},
   "outputs": [],
   "source": []
  },
  {
   "cell_type": "code",
   "execution_count": null,
   "metadata": {},
   "outputs": [],
   "source": []
  },
  {
   "cell_type": "code",
   "execution_count": null,
   "metadata": {},
   "outputs": [],
   "source": []
  },
  {
   "cell_type": "code",
   "execution_count": 69,
   "metadata": {},
   "outputs": [
    {
     "name": "stdout",
     "output_type": "stream",
     "text": [
      "Food: Chicken Saltimbocca\n",
      "Description: Crispy Chicken, Spicy Capicola, Arrabbiata Sauce, Provolone, Mozzarella, Pesto\n",
      "Price: $14.75\n",
      "Image URL: https://img.cdn4dd.com/p/fit=cover,width=1200,height=1200,format=auto,quality=80/media/photosV2/04c85384-34a0-4ef9-8c4d-d395645358c1-29d3ff1e-b439-428d-a4d9-da85d58671a6-retina-large.JPG\n",
      "Food: Kale Caesar Salad\n",
      "Description: Parmigiano, Toasted Walnuts, Garlic Croutons and Caesar Dressing\n",
      "Price: •\n",
      "Image URL: https://img.cdn4dd.com/p/fit=cover,width=1200,height=1200,format=auto,quality=80/media/photosV2/5631cf8c-e917-4b95-99de-eeaf0843c332-0a5a9058-d2d3-4baf-8028-39d7a9b5989d-retina-large.JPG\n",
      "Food: Joe Vigs\n",
      "Description: Mortadella, Finocchiona, Prosciutto, Asiago, Mozzarella, Peppers, Garlic Aioli\n",
      "Price: \n",
      "Image URL: https://img.cdn4dd.com/p/fit=cover,width=1200,height=1200,format=auto,quality=80/media/photosV2/3771c434-da67-47fc-bc1d-2c94dc8b3bfc-a96ea271-3740-407f-9ee1-80882223ded2-retina-large.JPG\n",
      "Food: Sicilian Chopped Salad\n",
      "Description: Finocchiona, Olives, Fried Ceci, Cherry Tomato, Pecorino Cheese, Lemon Vinaigrette\n",
      "Price: $16.00\n",
      "Image URL: https://img.cdn4dd.com/p/fit=cover,width=1200,height=1200,format=auto,quality=80/media/photosV2/57193852-2d3d-48a5-bf66-aa54a0d5b332-retina-large.jpg\n",
      "Food: Uova Funghi\n",
      "Description: Soft Scrambled Egg, L'Artusi Mushrooms, Gouda, Lemon Aioli, Pancetta\n",
      "Price: $16.25\n",
      "Image URL: https://img.cdn4dd.com/p/fit=cover,width=1200,height=1200,format=auto,quality=80/media/photosV2/5d1c26d1-f374-489c-991d-dcc2ddd035c6-e19ba3bf-cf99-4a2b-bce5-314cc8de216c-retina-large.JPG\n",
      "Food: Arista\n",
      "Description: Roasted Pork, Prosciutto Cotto, Provolone, Pickles, Mustard\n",
      "Price: $17.00\n",
      "Image URL: https://img.cdn4dd.com/p/fit=cover,width=1200,height=1200,format=auto,quality=80/media/photosV2/76b45109-d0a4-4e90-a061-99b90045c550-b93da0c7-1568-42a6-b918-89de4030e8ec-retina-large.JPG\n",
      "Food: Cold Brew\n",
      "Description: Soft Scrambled Egg, L'Artusi Mushrooms, Gouda, Lemon Aioli\n",
      "Price: $14.75\n",
      "Image URL: https://img.cdn4dd.com/p/fit=cover,width=1200,height=1200,format=auto,quality=80/media/photosV2/8f7544ba-81ed-4042-9c68-a264b2d2871b-retina-large.JPG\n",
      "Food: Olive Oil Loaf\n",
      "Description: Finocchiona, Olives, Fried Ceci, Cherry Tomato, Pecorino Cheese, Lemon Vinaigrette\n",
      "Price: •\n",
      "Image URL: https://img.cdn4dd.com/p/fit=cover,width=1200,height=1200,format=auto,quality=80/media/photosV2/116c8bf3-d693-4eb5-95c9-5ca6a2faad5a-5af2795e-13f4-47e3-ba05-fdf55bba7a29-retina-large.JPG\n",
      "Food: Chocolate Chip Cookie\n",
      "Description: Parmigiano, Toasted Walnuts, Garlic Croutons and Caesar Dressing\n",
      "Price: \n",
      "Image URL: https://img.cdn4dd.com/p/fit=cover,width=1200,height=1200,format=auto,quality=80/media/photosV2/a22177d9-41d6-47cc-8ae7-a4fe292e9a1c-fee4974e-83d5-4dcf-84c0-82b51f6da836-retina-large.JPG\n",
      "Food: Uova Funghi - NO PANCETTA\n",
      "Description: Traditional Tuscan Bread Soup, Cannellini Beans, Kale, Sourdough, Tomato and Pecorino\n",
      "Price: $15.25\n",
      "Image URL: https://img.cdn4dd.com/p/fit=cover,width=1200,height=1200,format=auto,quality=80/media/photosV2/f0ce71dc-07a6-45ed-9209-c7eee36b08e1-f89a6d6a-6815-48c0-bded-f2d91763e443-retina-large.JPG\n",
      "Food: Cheddar Chive Biscuit\n",
      "Description: Crispy Chicken, Spicy Capicola, Arrabbiata Sauce, Provolone, Mozzarella, Pesto\n",
      "Price: $5.00\n",
      "Image URL: https://img.cdn4dd.com/p/fit=cover,width=1200,height=1200,format=auto,quality=80/media/photosV2/fb5a4334-5f24-44fa-a321-173b0c8830aa-8156cf12-4604-4cbc-872c-14f0e21c3c32-retina-large.JPG\n",
      "Food: Blueberry Muffin\n",
      "Description: Mortadella, Finocchiona, Prosciutto, Asiago, Mozzarella, Peppers, Garlic Aioli\n",
      "Price: $4.00\n",
      "Image URL: https://img.cdn4dd.com/p/fit=cover,width=1200,height=1200,format=auto,quality=80/media/photosV2/9568c935-9cb0-4cf3-85b9-ded4eb5810cf-4f3c5175-7b48-4cc2-b572-fdcc95b5bbf9-retina-large.jpg\n",
      "Food: Chocolate Chip Cookie\n",
      "Description: Roasted Pork, Prosciutto Cotto, Provolone, Pickles, Mustard\n",
      "Price: $4.00\n",
      "Image URL: https://img.cdn4dd.com/p/fit=cover,width=1200,height=1200,format=auto,quality=80/media/photosV2/a22177d9-41d6-47cc-8ae7-a4fe292e9a1c-fee4974e-83d5-4dcf-84c0-82b51f6da836-retina-large.JPG\n",
      "Food: Olive Oil Loaf\n",
      "Description: Soft Scrambled Egg, L'Artusi Mushrooms, Gouda, Lemon Aioli, Pancetta\n",
      "Price: $13.75\n",
      "Image URL: https://img.cdn4dd.com/p/fit=cover,width=1200,height=1200,format=auto,quality=80/media/photosV2/116c8bf3-d693-4eb5-95c9-5ca6a2faad5a-5af2795e-13f4-47e3-ba05-fdf55bba7a29-retina-large.JPG\n",
      "Food: Seasonal Frittata\n",
      "Description: Soft Scrambled Egg, L'Artusi Mushrooms, Gouda, Lemon Aioli\n",
      "Price: $6.00\n",
      "Image URL: https://img.cdn4dd.com/p/fit=cover,width=1200,height=1200,format=auto,quality=80/media/photosV2/b85ebdb2-ae06-48cb-a79d-919f617861ef-2c8e6166-d90a-418a-8d7b-c07e49f04710-retina-large.JPG\n",
      "Food: Chocolate Chip Cookie\n",
      "Description: Soft Scrambled Egg, L'Artusi Mushrooms, Gouda, Lemon Aioli\n",
      "Price: $4.00\n",
      "Image URL: https://img.cdn4dd.com/p/fit=cover,width=1200,height=1200,format=auto,quality=80/media/photosV2/a22177d9-41d6-47cc-8ae7-a4fe292e9a1c-fee4974e-83d5-4dcf-84c0-82b51f6da836-retina-large.JPG\n",
      "Food: Uova Funghi - NO PANCETTA\n",
      "Description: Finocchiona, Olives, Fried Ceci, Cherry Tomato, Pecorino Cheese, Lemon Vinaigrette\n",
      "Price: $13.75\n",
      "Image URL: https://img.cdn4dd.com/p/fit=cover,width=1200,height=1200,format=auto,quality=80/media/photosV2/f0ce71dc-07a6-45ed-9209-c7eee36b08e1-f89a6d6a-6815-48c0-bded-f2d91763e443-retina-large.JPG\n",
      "Food: Cheddar Chive Biscuit\n",
      "Description: Parmigiano, Toasted Walnuts, Garlic Croutons and Caesar Dressing\n",
      "Price: $6.00\n",
      "Image URL: https://img.cdn4dd.com/p/fit=cover,width=1200,height=1200,format=auto,quality=80/media/photosV2/fb5a4334-5f24-44fa-a321-173b0c8830aa-8156cf12-4604-4cbc-872c-14f0e21c3c32-retina-large.JPG\n",
      "Food: Blueberry Muffin\n",
      "Description: Traditional Tuscan Bread Soup, Cannellini Beans, Kale, Sourdough, Tomato and Pecorino\n",
      "Price: $6.00\n",
      "Image URL: https://img.cdn4dd.com/p/fit=cover,width=1200,height=1200,format=auto,quality=80/media/photosV2/9568c935-9cb0-4cf3-85b9-ded4eb5810cf-4f3c5175-7b48-4cc2-b572-fdcc95b5bbf9-retina-large.jpg\n",
      "Food: Chocolate Chip Cookie\n",
      "Description: Crispy Chicken, Spicy Capicola, Arrabbiata Sauce, Provolone, Mozzarella, Pesto\n",
      "Price: $4.00\n",
      "Image URL: https://img.cdn4dd.com/p/fit=cover,width=1200,height=1200,format=auto,quality=80/media/photosV2/a22177d9-41d6-47cc-8ae7-a4fe292e9a1c-fee4974e-83d5-4dcf-84c0-82b51f6da836-retina-large.JPG\n",
      "Food: Olive Oil Loaf\n",
      "Description: Mortadella, Finocchiona, Prosciutto, Asiago, Mozzarella, Peppers, Garlic Aioli\n",
      "Price: $4.00\n",
      "Image URL: https://img.cdn4dd.com/p/fit=cover,width=1200,height=1200,format=auto,quality=80/media/photosV2/116c8bf3-d693-4eb5-95c9-5ca6a2faad5a-5af2795e-13f4-47e3-ba05-fdf55bba7a29-retina-large.JPG\n",
      "Food: Seasonal Frittata\n",
      "Description: Roasted Pork, Prosciutto Cotto, Provolone, Pickles, Mustard\n",
      "Price: $7.00\n",
      "Image URL: https://img.cdn4dd.com/p/fit=cover,width=1200,height=1200,format=auto,quality=80/media/photosV2/b85ebdb2-ae06-48cb-a79d-919f617861ef-2c8e6166-d90a-418a-8d7b-c07e49f04710-retina-large.JPG\n",
      "Food: Cinnamon Bun\n",
      "Description: Soft Scrambled Egg, L'Artusi Mushrooms, Gouda, Lemon Aioli, Pancetta\n",
      "Price: $5.00\n",
      "Image URL: https://img.cdn4dd.com/p/fit=cover,width=1200,height=1200,format=auto,quality=80/media/photosV2/6a7391e8-6cd6-4047-b4eb-ee34ad1cb156-53312983-f815-4822-aace-35d6b8ccb44c-retina-large.JPG\n",
      "Food: Sicilian Chopped Salad\n",
      "Description: Soft Scrambled Egg, L'Artusi Mushrooms, Gouda, Lemon Aioli\n",
      "Price: $17.00\n",
      "Image URL: https://img.cdn4dd.com/p/fit=cover,width=1200,height=1200,format=auto,quality=80/media/photosV2/57193852-2d3d-48a5-bf66-aa54a0d5b332-retina-large.jpg\n",
      "Food: Kale Caesar Salad\n",
      "Description: Sicilian Tuna Salad, Pickled Red Onions, Radish, Olives, Orange, Lemon Aioli\n",
      "Price: $16.00\n",
      "Image URL: https://img.cdn4dd.com/p/fit=cover,width=1200,height=1200,format=auto,quality=80/media/photosV2/5631cf8c-e917-4b95-99de-eeaf0843c332-0a5a9058-d2d3-4baf-8028-39d7a9b5989d-retina-large.JPG\n",
      "Food: Ribollita\n",
      "Description: Taleggio, Gorgonzola, Apple, Radicchio, Walnut Pesto, Saba\n",
      "Price: $9.75\n",
      "Image URL: https://img.cdn4dd.com/p/fit=cover,width=1200,height=1200,format=auto,quality=80/media/photosV2/75fbf906-a07b-4b79-a5f7-e022a42ebd11-3f70829c-2e7c-4f65-9209-f076c7dc2bb5-retina-large.JPG\n",
      "Food: Chicken Saltimbocca\n",
      "Description: Arugula, Roasted Peppers, Garlic, Lemon\n",
      "Price: $14.75\n",
      "Image URL: https://img.cdn4dd.com/p/fit=cover,width=1200,height=1200,format=auto,quality=80/media/photosV2/04c85384-34a0-4ef9-8c4d-d395645358c1-29d3ff1e-b439-428d-a4d9-da85d58671a6-retina-large.JPG\n",
      "Food: Seasonal Frittata\n",
      "Description: Finocchiona, Olives, Fried Ceci, Cherry Tomato, Pecorino Cheese, Lemon Vinaigrette\n",
      "Price: $7.00\n",
      "Image URL: https://img.cdn4dd.com/p/fit=cover,width=1200,height=1200,format=auto,quality=80/media/photosV2/b85ebdb2-ae06-48cb-a79d-919f617861ef-2c8e6166-d90a-418a-8d7b-c07e49f04710-retina-large.JPG\n",
      "Food: Cinnamon Bun\n",
      "Description: Parmigiano, Toasted Walnuts, Garlic Croutons and Caesar Dressing\n",
      "Price: $5.00\n",
      "Image URL: https://img.cdn4dd.com/p/fit=cover,width=1200,height=1200,format=auto,quality=80/media/photosV2/6a7391e8-6cd6-4047-b4eb-ee34ad1cb156-53312983-f815-4822-aace-35d6b8ccb44c-retina-large.JPG\n",
      "Food: Sicilian Chopped Salad\n",
      "Description: Traditional Tuscan Bread Soup, Cannellini Beans, Kale, Sourdough, Tomato and Pecorino\n",
      "Price: $17.00\n",
      "Image URL: https://img.cdn4dd.com/p/fit=cover,width=1200,height=1200,format=auto,quality=80/media/photosV2/57193852-2d3d-48a5-bf66-aa54a0d5b332-retina-large.jpg\n",
      "Food: Kale Caesar Salad\n",
      "Description: Crispy Chicken, Spicy Capicola, Arrabbiata Sauce, Provolone, Mozzarella, Pesto\n",
      "Price: $16.00\n",
      "Image URL: https://img.cdn4dd.com/p/fit=cover,width=1200,height=1200,format=auto,quality=80/media/photosV2/5631cf8c-e917-4b95-99de-eeaf0843c332-0a5a9058-d2d3-4baf-8028-39d7a9b5989d-retina-large.JPG\n",
      "Food: Ribollita\n",
      "Description: Mortadella, Finocchiona, Prosciutto, Asiago, Mozzarella, Peppers, Garlic Aioli\n",
      "Price: $9.75\n",
      "Image URL: https://img.cdn4dd.com/p/fit=cover,width=1200,height=1200,format=auto,quality=80/media/photosV2/75fbf906-a07b-4b79-a5f7-e022a42ebd11-3f70829c-2e7c-4f65-9209-f076c7dc2bb5-retina-large.JPG\n",
      "Food: Chicken Saltimbocca\n",
      "Description: Roasted Pork, Prosciutto Cotto, Provolone, Pickles, Mustard\n",
      "Price: $14.75\n",
      "Image URL: https://img.cdn4dd.com/p/fit=cover,width=1200,height=1200,format=auto,quality=80/media/photosV2/04c85384-34a0-4ef9-8c4d-d395645358c1-29d3ff1e-b439-428d-a4d9-da85d58671a6-retina-large.JPG\n",
      "Food: Joe Vigs\n",
      "Description: Soft Scrambled Egg, L'Artusi Mushrooms, Gouda, Lemon Aioli, Pancetta\n",
      "Price: •\n",
      "Image URL: https://img.cdn4dd.com/p/fit=cover,width=1200,height=1200,format=auto,quality=80/media/photosV2/3771c434-da67-47fc-bc1d-2c94dc8b3bfc-a96ea271-3740-407f-9ee1-80882223ded2-retina-large.JPG\n",
      "Food: Arista\n",
      "Description: Soft Scrambled Egg, L'Artusi Mushrooms, Gouda, Lemon Aioli\n",
      "Price: \n",
      "Image URL: https://img.cdn4dd.com/p/fit=cover,width=1200,height=1200,format=auto,quality=80/media/photosV2/76b45109-d0a4-4e90-a061-99b90045c550-b93da0c7-1568-42a6-b918-89de4030e8ec-retina-large.JPG\n",
      "Food: Uova Funghi\n",
      "Description: Sicilian Tuna Salad, Pickled Red Onions, Radish, Olives, Orange, Lemon Aioli\n",
      "Price: $16.25\n",
      "Image URL: https://img.cdn4dd.com/p/fit=cover,width=1200,height=1200,format=auto,quality=80/media/photosV2/5d1c26d1-f374-489c-991d-dcc2ddd035c6-e19ba3bf-cf99-4a2b-bce5-314cc8de216c-retina-large.JPG\n",
      "Food: Uova Funghi - NO PANCETTA\n",
      "Description: Taleggio, Gorgonzola, Apple, Radicchio, Walnut Pesto, Saba\n",
      "Price: $15.25\n",
      "Image URL: https://img.cdn4dd.com/p/fit=cover,width=1200,height=1200,format=auto,quality=80/media/photosV2/f0ce71dc-07a6-45ed-9209-c7eee36b08e1-f89a6d6a-6815-48c0-bded-f2d91763e443-retina-large.JPG\n",
      "Food: Lunch Box\n",
      "Description: Arugula, Roasted Peppers, Garlic, Lemon\n",
      "Price: $14.75\n",
      "Image URL: https://img.cdn4dd.com/p/fit=cover,width=1200,height=1200,format=auto,quality=80/media/photosV2/20febe66-a2b7-4aae-9809-55e89049d90e-02d4c28f-292a-4913-9664-607cd9d2d818-retina-large.JPG\n",
      "Food: Ribollita\n",
      "Description: Traditional Tuscan Bread Soup, Cannellini Beans, Kale, Sourdough, Tomato and Pecorino\n",
      "Price: $9.75\n",
      "Image URL: https://img.cdn4dd.com/p/fit=cover,width=1200,height=1200,format=auto,quality=80/media/photosV2/75fbf906-a07b-4b79-a5f7-e022a42ebd11-3f70829c-2e7c-4f65-9209-f076c7dc2bb5-retina-large.JPG\n",
      "Food: Chicken Saltimbocca\n",
      "Description: Crispy Chicken, Spicy Capicola, Arrabbiata Sauce, Provolone, Mozzarella, Pesto\n",
      "Price: $14.75\n",
      "Image URL: https://img.cdn4dd.com/p/fit=cover,width=1200,height=1200,format=auto,quality=80/media/photosV2/04c85384-34a0-4ef9-8c4d-d395645358c1-29d3ff1e-b439-428d-a4d9-da85d58671a6-retina-large.JPG\n",
      "Food: Joe Vigs\n",
      "Description: Mortadella, Finocchiona, Prosciutto, Asiago, Mozzarella, Peppers, Garlic Aioli\n",
      "Price: •\n",
      "Image URL: https://img.cdn4dd.com/p/fit=cover,width=1200,height=1200,format=auto,quality=80/media/photosV2/3771c434-da67-47fc-bc1d-2c94dc8b3bfc-a96ea271-3740-407f-9ee1-80882223ded2-retina-large.JPG\n",
      "Food: Arista\n",
      "Description: Roasted Pork, Prosciutto Cotto, Provolone, Pickles, Mustard\n",
      "Price: \n",
      "Image URL: https://img.cdn4dd.com/p/fit=cover,width=1200,height=1200,format=auto,quality=80/media/photosV2/76b45109-d0a4-4e90-a061-99b90045c550-b93da0c7-1568-42a6-b918-89de4030e8ec-retina-large.JPG\n",
      "Food: Uova Funghi\n",
      "Description: Soft Scrambled Egg, L'Artusi Mushrooms, Gouda, Lemon Aioli, Pancetta\n",
      "Price: $16.25\n",
      "Image URL: https://img.cdn4dd.com/p/fit=cover,width=1200,height=1200,format=auto,quality=80/media/photosV2/5d1c26d1-f374-489c-991d-dcc2ddd035c6-e19ba3bf-cf99-4a2b-bce5-314cc8de216c-retina-large.JPG\n",
      "Food: Uova Funghi - NO PANCETTA\n",
      "Description: Soft Scrambled Egg, L'Artusi Mushrooms, Gouda, Lemon Aioli\n",
      "Price: $15.25\n",
      "Image URL: https://img.cdn4dd.com/p/fit=cover,width=1200,height=1200,format=auto,quality=80/media/photosV2/f0ce71dc-07a6-45ed-9209-c7eee36b08e1-f89a6d6a-6815-48c0-bded-f2d91763e443-retina-large.JPG\n",
      "Food: Lunch Box\n",
      "Description: Sicilian Tuna Salad, Pickled Red Onions, Radish, Olives, Orange, Lemon Aioli\n",
      "Price: $14.75\n",
      "Image URL: https://img.cdn4dd.com/p/fit=cover,width=1200,height=1200,format=auto,quality=80/media/photosV2/20febe66-a2b7-4aae-9809-55e89049d90e-02d4c28f-292a-4913-9664-607cd9d2d818-retina-large.JPG\n",
      "Food: Mattanza\n",
      "Description: Taleggio, Gorgonzola, Apple, Radicchio, Walnut Pesto, Saba\n",
      "Price: •\n",
      "Image URL: https://img.cdn4dd.com/p/fit=cover,width=1200,height=1200,format=auto,quality=80/media/photosV2/ccf9cb11-274e-4e1c-bd74-026b18cbae02-65f969f3-c1e5-4081-b1ec-e79ca13746f9-retina-large.JPG\n",
      "Food: Fuso\n",
      "Description: Arugula, Roasted Peppers, Garlic, Lemon\n",
      "Price: \n",
      "Image URL: https://img.cdn4dd.com/p/fit=cover,width=1200,height=1200,format=auto,quality=80/media/photosV2/8795b0a4-089a-4066-a509-58174806b9e0-fd4017ff-e1a5-430c-a5b4-e162955ff0c8-retina-large.JPG\n",
      "Food: Avocado Toast\n",
      "Description: Arugula, Roasted Peppers, Garlic, Lemon\n",
      "Price: $14.00\n",
      "Image URL: https://img.cdn4dd.com/p/fit=cover,width=1200,height=1200,format=auto,quality=80/media/photosV2/32683fb4-1a10-48dd-a79c-4f9358e80c1d-retina-large.jpg\n",
      "Food: Iced Latte\n",
      "Description: Spinach, Kale, Green Apple, Avocado, Honey, Lemon and Orange Juice\n",
      "Price: $4.75\n",
      "Image URL: https://img.cdn4dd.com/p/fit=cover,width=1200,height=1200,format=auto,quality=80/media/photosV2/b4a1d3f7-d3ae-47b6-a1c2-abd2d03c17d5-retina-large.jpg\n",
      "Food: Cold Brew\n",
      "Description: Peanut Butter, Banana, Oat Milk, Avocado, Dates and Cocoa Powder\n",
      "Price: $5.00\n",
      "Image URL: https://img.cdn4dd.com/p/fit=cover,width=1200,height=1200,format=auto,quality=80/media/photosV2/8f7544ba-81ed-4042-9c68-a264b2d2871b-retina-large.JPG\n",
      "Food: Peach & Mint Iced Tea\n",
      "Description: Raspberry, Strawberry, Cherry, Cranberry, Orange Juice, Almond and Tahini\n",
      "Price: $5.00\n",
      "Image URL: https://img.cdn4dd.com/p/fit=cover,width=1200,height=1200,format=auto,quality=80/media/photosV2/b527cb9b-cc3d-4edf-963e-15435db18765-retina-large.jpg\n",
      "Food: Hot Tea\n",
      "Description: Spinach, Kale, Green Apple, Avocado, Honey, Lemon and Orange Juice\n",
      "Price: $4.00\n",
      "Image URL: https://img.cdn4dd.com/p/fit=cover,width=1200,height=1200,format=auto,quality=80/media/photosV2/43173d6d-bd89-49e9-bdd3-977c3191a3d2-retina-large.JPG\n",
      "Food: Green\n",
      "Description: Peanut Butter, Banana, Oat Milk, Avocado, Dates and Cocoa Powder\n",
      "Price: $12.00\n",
      "Image URL: https://img.cdn4dd.com/p/fit=cover,width=1200,height=1200,format=auto,quality=80/media/photosV2/ed388a04-9b44-49a0-85b0-2104c2914c23-retina-large.jpg\n",
      "Food: Peanut Butter Chocolate\n",
      "Description: Raspberry, Strawberry, Cherry, Cranberry, Orange Juice, Almond and Tahini\n",
      "Price: $12.00\n",
      "Image URL: https://img.cdn4dd.com/p/fit=cover,width=1200,height=1200,format=auto,quality=80/media/photosV2/e0308645-0168-420e-ba7f-58311afa7f00-retina-large.jpg\n",
      "Food: Red\n",
      "Description: St. Agrestis \"Phony Negroni\" N/A Negroni\n",
      "Price: $12.00\n",
      "Image URL: https://img.cdn4dd.com/p/fit=cover,width=1200,height=1200,format=auto,quality=80/media/photosV2/297fd700-c7ed-4aa3-819b-7c85b4c9602d-retina-large.jpg\n",
      "Food: Diet Coke\n",
      "Description: Fusilli, Asparagus, Nonna Rose's Peppers, Shallots, Chamomile, Garlic Aioli and Sicilian Oregano\n",
      "Price: $2.50\n",
      "Image URL: https://img.cdn4dd.com/p/fit=cover,width=1200,height=1200,format=auto,quality=80/media/photosV2/4888c6f0-bcb7-453c-a810-d95d2168f686-b42144db-c479-4de2-9a14-cc0bf1774633-retina-large.JPG\n",
      "Food: Coke\n",
      "Description: L'Artusi Roasted Chicken, Celery, Cranberry and Roasted Garlic\n",
      "Price: $2.50\n",
      "Image URL: https://img.cdn4dd.com/p/fit=cover,width=1200,height=1200,format=auto,quality=80/media/photosV2/8add3827-c2c8-444c-8a8b-5b8937006952-234df537-a915-4d2b-871c-99385fccfa88-retina-large.JPG\n",
      "Food: Red\n",
      "Description: Raspberry, Strawberry, Cherry, Cranberry, Orange Juice, Almond and Tahini\n",
      "Price: $12.00\n",
      "Image URL: https://img.cdn4dd.com/p/fit=cover,width=1200,height=1200,format=auto,quality=80/media/photosV2/297fd700-c7ed-4aa3-819b-7c85b4c9602d-retina-large.jpg\n",
      "Food: Diet Coke\n",
      "Description: St. Agrestis \"Phony Negroni\" N/A Negroni\n",
      "Price: $2.50\n",
      "Image URL: https://img.cdn4dd.com/p/fit=cover,width=1200,height=1200,format=auto,quality=80/media/photosV2/4888c6f0-bcb7-453c-a810-d95d2168f686-b42144db-c479-4de2-9a14-cc0bf1774633-retina-large.JPG\n",
      "Food: Coke\n",
      "Description: Fusilli, Asparagus, Nonna Rose's Peppers, Shallots, Chamomile, Garlic Aioli and Sicilian Oregano\n",
      "Price: $2.50\n",
      "Image URL: https://img.cdn4dd.com/p/fit=cover,width=1200,height=1200,format=auto,quality=80/media/photosV2/8add3827-c2c8-444c-8a8b-5b8937006952-234df537-a915-4d2b-871c-99385fccfa88-retina-large.JPG\n",
      "Food: Sanpellegrino Can\n",
      "Description: L'Artusi Roasted Chicken, Celery, Cranberry and Roasted Garlic\n",
      "Price: $2.75\n",
      "Image URL: https://img.cdn4dd.com/p/fit=cover,width=1200,height=1200,format=auto,quality=80/media/photosV2/7ce527b5-a7b7-43f8-929a-aed575d10c9a-retina-large.jpg\n",
      "Food: Phony Negroni\n",
      "Description: Bolognese Bianco Ragu (contains pork), Mozzarella, Parmigiano and Pecorino (2 servings - sent cold)\n",
      "Price: $9.00\n",
      "Image URL: https://img.cdn4dd.com/p/fit=cover,width=1200,height=1200,format=auto,quality=80/media/photosV2/405d5f63-a0c8-4448-b397-6fe9854e1bea-retina-large.jpg\n",
      "Food: Sparkling Water\n",
      "Description: Sicilian Tuna Salad, Capers, Olives, Carrots, Celery, Pickled Onions, Oregano, Chamomile Vinegar and Extra Virgin Olive Oil\n",
      "Price: $3.00\n",
      "Image URL: https://img.cdn4dd.com/p/fit=cover,width=1200,height=1200,format=auto,quality=80/media/photosV2/accc52de-9a00-4614-af1f-57f1d8ed39a3-81c01345-4fc1-4a94-b9ca-a65e7b279caa-retina-large.JPG\n",
      "Food: Sprite\n",
      "Description: Mozzarella, Roasted Red Pepper, Extra Virgin Olive Oil and Sicilian Oregano\n",
      "Price: $2.50\n",
      "Image URL: https://img.cdn4dd.com/p/fit=cover,width=1200,height=1200,format=auto,quality=80/media/photosV2/31c2950a-7d8c-4cba-82b5-5d29c28ad24b-33f52167-4308-44ef-a548-03982025c35f-retina-large.JPG\n",
      "Food: Pilot Kombucha Celery Juniper\n",
      "Description: Seasonal Compote\n",
      "Price: $6.00\n",
      "Image URL: https://img.cdn4dd.com/p/fit=cover,width=1200,height=1200,format=auto,quality=80/media/photosV2/056043e1-5b03-40b0-b70c-087b4ede2b3e-retina-large.jpg\n",
      "Food: Spindrift Can\n",
      "Description: Fusilli, Asparagus, Nonna Rose's Peppers, Shallots, Chamomile, Garlic Aioli and Sicilian Oregano\n",
      "Price: $2.75\n",
      "Image URL: https://img.cdn4dd.com/p/fit=cover,width=1200,height=1200,format=auto,quality=80/media/photosV2/b8756f4c-56f2-4576-96d9-cb10959671a8-870ee7c4-0524-4e03-b853-7823e79ddfab-retina-large.JPG\n",
      "Food: Pilot Kombucha Turmeric Aloe\n",
      "Description: L'Artusi Roasted Chicken, Celery, Cranberry and Roasted Garlic\n",
      "Price: $6.00\n",
      "Image URL: https://img.cdn4dd.com/p/fit=cover,width=1200,height=1200,format=auto,quality=80/media/photosV2/1f34724d-4829-48bf-9446-b2c1c63828b5-retina-large.jpg\n",
      "Food: Threes Brewing All or Nothing IPA\n",
      "Description: Bolognese Bianco Ragu (contains pork), Mozzarella, Parmigiano and Pecorino (2 servings - sent cold)\n",
      "Price: $10.00\n",
      "Image URL: https://img.cdn4dd.com/p/fit=cover,width=1200,height=1200,format=auto,quality=80/media/photosV2/60c85dea-d884-4855-b206-dde0d4ea06f7-retina-large.jpg\n",
      "Food: Talea Apple Cinnamon Pilsner\n",
      "Description: Sicilian Tuna Salad, Capers, Olives, Carrots, Celery, Pickled Onions, Oregano, Chamomile Vinegar and Extra Virgin Olive Oil\n",
      "Price: $10.00\n",
      "Image URL: https://img.cdn4dd.com/p/fit=cover,width=1200,height=1200,format=auto,quality=80/media/photosV2/863c6465-844c-429d-ac1f-2f6872ae6b05-retina-large.jpg\n",
      "Food: Downeast Cider\n",
      "Description: Mozzarella, Roasted Red Pepper, Extra Virgin Olive Oil and Sicilian Oregano\n",
      "Price: $8.00\n",
      "Image URL: https://img.cdn4dd.com/p/fit=cover,width=1200,height=1200,format=auto,quality=80/media/photosV2/75577231-04d9-48c8-ae3c-28facc6f04ea-retina-large.jpg\n",
      "Food: The Bruery Goses are Red\n",
      "Description: Seasonal Compote\n",
      "Price: $10.00\n",
      "Image URL: https://img.cdn4dd.com/p/fit=cover,width=1200,height=1200,format=auto,quality=80/media/photosV2/3a0b31f4-78de-4ef4-91ac-335232fbd660-retina-large.jpg\n",
      "Food: Athletic Brewing NA IPA\n",
      "Description: Ancient Grains Cooked in Spiced Milk, seasonal jam, candied pepitas.\n",
      "Price: $8.00\n",
      "Image URL: https://img.cdn4dd.com/p/fit=cover,width=1200,height=1200,format=auto,quality=80/media/photosV2/8faf840e-6ead-427d-a302-f0b7c9529888-retina-large.jpg\n",
      "Food: Birria Antoniana Lager\n",
      "Description: Tuscan Bread Soup, Cannellini Beans, Kale, Tomato and Parmigiano (Sent Refrigerated)\n",
      "Price: $8.00\n",
      "Image URL: https://img.cdn4dd.com/p/fit=cover,width=1200,height=1200,format=auto,quality=80/media/photosV2/9b12cea8-7886-4565-b10e-f071c6a70c2e-retina-large.jpg\n",
      "Food: Pasta Salad\n",
      "Description: A Pound of Pasta, Choice of Ragu and 1/2 Pint of Grated Pecorino\n",
      "Price: $7.00\n",
      "Image URL: https://img.cdn4dd.com/p/fit=cover,width=1200,height=1200,format=auto,quality=80/media/photosV2/f2aecbf3-3583-46e0-9b29-4445751601dc-retina-large.jpg\n",
      "Food: Chicken Salad\n",
      "Description: 1/2 Pint\n",
      "Price: $9.00\n",
      "Image URL: https://img.cdn4dd.com/p/fit=cover,width=1200,height=1200,format=auto,quality=80/media/photosV2/f4102cb8-606e-487e-8aa2-409f213b6469-fa96e1d9-76ae-4277-8d7e-e46aa817b1a9-retina-large.JPG\n",
      "Food: Bolognese Jar (16oz)\n",
      "Description: Goat Cheese, Hazelnuts And Poppy Seed.\n",
      "Price: $19.00\n",
      "Image URL: https://img.cdn4dd.com/p/fit=cover,width=1200,height=1200,format=auto,quality=80/media/photosV2/9ec09cf3-f162-41b8-91c9-ac38765733ee-497731e2-2fda-4088-9340-6606c89afc02-retina-large.JPG\n",
      "Food: Amatriciana Jar (16oz)\n",
      "Description: Marinated Italian olives, rosemary, orange zest, black pepper, saba.\n",
      "Price: $17.00\n",
      "Image URL: https://img.cdn4dd.com/p/fit=cover,width=1200,height=1200,format=auto,quality=80/media/photosV2/12a5196e-8a1c-4d4d-9366-266d52dea220-a8a19c87-8e44-4b18-a61c-287aa175645d-retina-large.JPG\n",
      "Food: Athletic Brewing NA IPA\n",
      "Description: Fusilli, Asparagus, Nonna Rose's Peppers, Shallots, Chamomile, Garlic Aioli and Sicilian Oregano\n",
      "Price: $8.00\n",
      "Image URL: https://img.cdn4dd.com/p/fit=cover,width=1200,height=1200,format=auto,quality=80/media/photosV2/3a0b31f4-78de-4ef4-91ac-335232fbd660-retina-large.jpg\n",
      "Food: Birria Antoniana Lager\n",
      "Description: L'Artusi Roasted Chicken, Celery, Cranberry and Roasted Garlic\n",
      "Price: $8.00\n",
      "Image URL: https://img.cdn4dd.com/p/fit=cover,width=1200,height=1200,format=auto,quality=80/media/photosV2/8faf840e-6ead-427d-a302-f0b7c9529888-retina-large.jpg\n",
      "Food: Pasta Salad\n",
      "Description: Bolognese Bianco Ragu (contains pork), Mozzarella, Parmigiano and Pecorino (2 servings - sent cold)\n",
      "Price: $7.00\n",
      "Image URL: https://img.cdn4dd.com/p/fit=cover,width=1200,height=1200,format=auto,quality=80/media/photosV2/9b12cea8-7886-4565-b10e-f071c6a70c2e-retina-large.jpg\n",
      "Food: Chicken Salad\n",
      "Description: Sicilian Tuna Salad, Capers, Olives, Carrots, Celery, Pickled Onions, Oregano, Chamomile Vinegar and Extra Virgin Olive Oil\n",
      "Price: $9.00\n",
      "Image URL: https://img.cdn4dd.com/p/fit=cover,width=1200,height=1200,format=auto,quality=80/media/photosV2/f2aecbf3-3583-46e0-9b29-4445751601dc-retina-large.jpg\n",
      "Food: Bolognese Jar (16oz)\n",
      "Description: Mozzarella, Roasted Red Pepper, Extra Virgin Olive Oil and Sicilian Oregano\n",
      "Price: $19.00\n",
      "Image URL: https://img.cdn4dd.com/p/fit=cover,width=1200,height=1200,format=auto,quality=80/media/photosV2/f4102cb8-606e-487e-8aa2-409f213b6469-fa96e1d9-76ae-4277-8d7e-e46aa817b1a9-retina-large.JPG\n",
      "Food: Amatriciana Jar (16oz)\n",
      "Description: Seasonal Compote\n",
      "Price: $17.00\n",
      "Image URL: https://img.cdn4dd.com/p/fit=cover,width=1200,height=1200,format=auto,quality=80/media/photosV2/9ec09cf3-f162-41b8-91c9-ac38765733ee-497731e2-2fda-4088-9340-6606c89afc02-retina-large.JPG\n",
      "Food: Lasagna Bolognese For Two\n",
      "Description: Ancient Grains Cooked in Spiced Milk, seasonal jam, candied pepitas.\n",
      "Price: $26.00\n",
      "Image URL: https://img.cdn4dd.com/p/fit=cover,width=1200,height=1200,format=auto,quality=80/media/photosV2/12a5196e-8a1c-4d4d-9366-266d52dea220-a8a19c87-8e44-4b18-a61c-287aa175645d-retina-large.JPG\n",
      "Food: Tuna Salad\n",
      "Description: Tuscan Bread Soup, Cannellini Beans, Kale, Tomato and Parmigiano (Sent Refrigerated)\n",
      "Price: $9.00\n",
      "Image URL: https://img.cdn4dd.com/p/fit=cover,width=1200,height=1200,format=auto,quality=80/media/photosV2/4adcf2e5-7450-477c-b6f4-ffc07866ecb7-ef112446-19de-4a71-af7d-f59e8c6ac4d3-retina-large.JPG\n",
      "Food: Mushroom Ragu Jar (16oz)\n",
      "Description: A Pound of Pasta, Choice of Ragu and 1/2 Pint of Grated Pecorino\n",
      "Price: $18.00\n",
      "Image URL: https://img.cdn4dd.com/p/fit=cover,width=1200,height=1200,format=auto,quality=80/media/photosV2/a3ae4066-bc57-42f2-ae2e-935da1d55780-24a9a36a-ea14-4326-9186-59c259732d33-retina-large.JPG\n",
      "Food: Marinated Mozzarella\n",
      "Description: 1/2 Pint\n",
      "Price: $7.00\n",
      "Image URL: https://img.cdn4dd.com/p/fit=cover,width=1200,height=1200,format=auto,quality=80/media/photosV2/743a3cd7-7e2f-4013-b579-95103ffa9e0f-87d7f4fd-2207-4699-9b0a-2bf73d164ebe-retina-large.JPG\n",
      "Food: Ricotta Jar (8oz)\n",
      "Description: Goat Cheese, Hazelnuts And Poppy Seed.\n",
      "Price: $14.00\n",
      "Image URL: https://img.cdn4dd.com/p/fit=cover,width=1200,height=1200,format=auto,quality=80/media/photosV2/0a8d57c8-d36d-46ab-89a0-2010fa3d9325-5cc90785-3226-4a6a-927d-cebf5891ff0d-retina-large.JPG\n",
      "Food: A Pound of Fresh Pasta\n",
      "Description: Marinated Italian olives, rosemary, orange zest, black pepper, saba.\n",
      "Price: $10.00\n",
      "Image URL: https://img.cdn4dd.com/p/fit=cover,width=1200,height=1200,format=auto,quality=80/media/photosV2/0083dab3-90d8-4ed9-8817-b1f7e80be3fb-0aa722ac-a2ce-45bf-93d5-177c33446d26-retina-large.JPG\n"
     ]
    },
    {
     "ename": "OSError",
     "evalue": "[Errno 22] Invalid argument: '<selenium.webdriver.remote.webelement.WebElement (session=\"affd1eac43cdff516d19eea39bc2e892\", element=\"AAB3FE5BBAE8063F9B441A0F2627B706_element_93\")>.json'",
     "output_type": "error",
     "traceback": [
      "\u001b[1;31m---------------------------------------------------------------------------\u001b[0m",
      "\u001b[1;31mOSError\u001b[0m                                   Traceback (most recent call last)",
      "Cell \u001b[1;32mIn[69], line 55\u001b[0m\n\u001b[0;32m     52\u001b[0m         menu[\u001b[39m\"\u001b[39m\u001b[39mmenu_items\u001b[39m\u001b[39m\"\u001b[39m]\u001b[39m.\u001b[39mappend(menu_item)\n\u001b[0;32m     54\u001b[0m \u001b[39m# Here you could write the menu dict to a file, or do something else with it\u001b[39;00m\n\u001b[1;32m---> 55\u001b[0m \u001b[39mwith\u001b[39;00m \u001b[39mopen\u001b[39;49m(\u001b[39mf\u001b[39;49m\u001b[39m\"\u001b[39;49m\u001b[39m{\u001b[39;49;00mname\u001b[39m}\u001b[39;49;00m\u001b[39m.json\u001b[39;49m\u001b[39m\"\u001b[39;49m, \u001b[39m'\u001b[39;49m\u001b[39mw\u001b[39;49m\u001b[39m'\u001b[39;49m) \u001b[39mas\u001b[39;00m f:\n\u001b[0;32m     56\u001b[0m     json\u001b[39m.\u001b[39mdump(menu, f)\n",
      "File \u001b[1;32m~\\AppData\\Roaming\\Python\\Python310\\site-packages\\IPython\\core\\interactiveshell.py:284\u001b[0m, in \u001b[0;36m_modified_open\u001b[1;34m(file, *args, **kwargs)\u001b[0m\n\u001b[0;32m    277\u001b[0m \u001b[39mif\u001b[39;00m file \u001b[39min\u001b[39;00m {\u001b[39m0\u001b[39m, \u001b[39m1\u001b[39m, \u001b[39m2\u001b[39m}:\n\u001b[0;32m    278\u001b[0m     \u001b[39mraise\u001b[39;00m \u001b[39mValueError\u001b[39;00m(\n\u001b[0;32m    279\u001b[0m         \u001b[39mf\u001b[39m\u001b[39m\"\u001b[39m\u001b[39mIPython won\u001b[39m\u001b[39m'\u001b[39m\u001b[39mt let you open fd=\u001b[39m\u001b[39m{\u001b[39;00mfile\u001b[39m}\u001b[39;00m\u001b[39m by default \u001b[39m\u001b[39m\"\u001b[39m\n\u001b[0;32m    280\u001b[0m         \u001b[39m\"\u001b[39m\u001b[39mas it is likely to crash IPython. If you know what you are doing, \u001b[39m\u001b[39m\"\u001b[39m\n\u001b[0;32m    281\u001b[0m         \u001b[39m\"\u001b[39m\u001b[39myou can use builtins\u001b[39m\u001b[39m'\u001b[39m\u001b[39m open.\u001b[39m\u001b[39m\"\u001b[39m\n\u001b[0;32m    282\u001b[0m     )\n\u001b[1;32m--> 284\u001b[0m \u001b[39mreturn\u001b[39;00m io_open(file, \u001b[39m*\u001b[39margs, \u001b[39m*\u001b[39m\u001b[39m*\u001b[39mkwargs)\n",
      "\u001b[1;31mOSError\u001b[0m: [Errno 22] Invalid argument: '<selenium.webdriver.remote.webelement.WebElement (session=\"affd1eac43cdff516d19eea39bc2e892\", element=\"AAB3FE5BBAE8063F9B441A0F2627B706_element_93\")>.json'"
     ]
    }
   ],
   "source": [
    "import re\n",
    "import json\n",
    "opener = urllib.request.build_opener()\n",
    "opener.addheaders = [('User-agent', 'Mozilla/5.0 (Windows NT 10.0; Win64; x64) AppleWebKit/537.36 (KHTML, like Gecko) Chrome/58.0.3029.110 Safari/537')]\n",
    "urllib.request.install_opener(opener)\n",
    "if not os.path.exists('images'):\n",
    "    os.makedirs('images')\n",
    "#name = driver.find_element(By.CSS_SELECTOR, '#__next > main > div > div.LayerManager__ChildrenContainer-sc-1k2ulq-0.gYRZjj > div > div.LayerManager__ChildrenContainer-sc-1k2ulq-0.gYRZjj > div.sc-ea0b8ed8-0.sc-93ccbd44-0.fgipDQ.fBaeps > div > div.sc-69ee586e-0.fIHkpi > div.sc-69ee586e-1.eYkXmh > div.sc-30ccff7d-0.cwDFbb > h1')\n",
    "#location = driver.find_element(By.CSS_SELECTOR, \".fgipDQ.fBaeps .kSwsod > button:nth-child(2)\")\n",
    "#food_tags = driver.find_element(By.CSS_SELECTOR, '#__next > main > div > div.LayerManager__ChildrenContainer-sc-1k2ulq-0.gYRZjj > div > div.LayerManager__ChildrenContainer-sc-1k2ulq-0.gYRZjj > div.sc-ea0b8ed8-0.sc-93ccbd44-0.fgipDQ.fBaeps > div > div.sc-69ee586e-0.fIHkpi > div.sc-69ee586e-1.eYkXmh > div.sc-30ccff7d-0.cwDFbb > div > div > div.sc-e322ac6f-5.cAnXZy > div:nth-child(2) > span.styles__TextElement-sc-3qedjx-0.cmFuMx.sc-e322ac6f-4.ezjnHX')\n",
    "\n",
    "buttons = driver.find_elements(By.CSS_SELECTOR, 'div.sc-fe74847b-1.cbxTOv > div > button')\n",
    "\n",
    "menu = {\n",
    "    \"name\": name,\n",
    "    \"location\": location,\n",
    "    \"food_tags\": food_tags,\n",
    "    \"menu_items\": []\n",
    "}\n",
    "\n",
    "# Iterate over the list of buttons and click each one\n",
    "for button in buttons:\n",
    "    button.click()\n",
    "    time.sleep(1)  # Wait for possible page load after clicking button\n",
    "\n",
    "    food_names = driver.find_elements(By.CSS_SELECTOR, \".sc-8370928c-0.kzJmQw h3\")\n",
    "    food_descriptions = driver.find_elements(By.CSS_SELECTOR, 'div.sc-8370928c-0.kzJmQw > div > span')\n",
    "    prices = driver.find_elements(By.CSS_SELECTOR, '.sc-8370928c-0.kzJmQw div.InlineChildren__StyledInlineChildren-sc-6r2tfo-0.dRqGTX > div > div > span > div > span')\n",
    "    imgs = driver.find_elements(By.CSS_SELECTOR, '.sc-31297892-1.hKyAGk > div > picture > img')\n",
    "\n",
    "    # Iterate over each image, food name, description and price, and print/store them\n",
    "    for food_name, food_description, price, img in zip(food_names, food_descriptions, prices, imgs):\n",
    "        image_link = img.get_attribute(\"src\")\n",
    "        print(f\"Food: {food_name.text}\")\n",
    "        print(f\"Description: {food_description.text}\")\n",
    "        print(f\"Price: {price.text}\")\n",
    "        print(f\"Image URL: {image_link}\")\n",
    "        \n",
    "                # This will keep only alphanumeric characters and underscores\n",
    "        clean_food_name = re.sub(r'\\W+', '_', food_name.text)\n",
    "\n",
    "        filename = os.path.join(\"images\", f\"{clean_food_name}.jpg\")  # Ensure no illegal characters in filename\n",
    "        urllib.request.urlretrieve(image_link, filename)\n",
    "\n",
    "\n",
    "        menu_item = {\n",
    "            \"food_name\": food_name.text,\n",
    "            \"food_description\": food_description.text,\n",
    "            \"price\": price.text,\n",
    "            \"image_url\": image_link,\n",
    "        }\n",
    "        menu[\"menu_items\"].append(menu_item)\n",
    "\n",
    "# Here you could write the menu dict to a file, or do something else with it\n",
    "with open(f\"{name}.json\", 'w') as f:\n",
    "    json.dump(menu, f)\n"
   ]
  },
  {
   "cell_type": "code",
   "execution_count": 52,
   "metadata": {},
   "outputs": [
    {
     "name": "stdout",
     "output_type": "stream",
     "text": [
      "Via Porta by L'Artusi\n"
     ]
    }
   ],
   "source": [
    "food_tags = driver.find_element(By.CSS_SELECTOR, '#__next > main > div > div.LayerManager__ChildrenContainer-sc-1k2ulq-0.gYRZjj > div > div.LayerManager__ChildrenContainer-sc-1k2ulq-0.gYRZjj > div.sc-ea0b8ed8-0.sc-93ccbd44-0.fgipDQ.fBaeps > div > div.sc-69ee586e-0.fIHkpi > div.sc-69ee586e-1.eYkXmh > div.sc-30ccff7d-0.cwDFbb > div > div > div.sc-e322ac6f-5.cAnXZy > div:nth-child(2) > span.styles__TextElement-sc-3qedjx-0.cmFuMx.sc-e322ac6f-4.ezjnHX')\n",
    "print(food_tags.text)"
   ]
  },
  {
   "attachments": {},
   "cell_type": "markdown",
   "metadata": {},
   "source": [
    "GET FOOD_NAMES"
   ]
  },
  {
   "attachments": {},
   "cell_type": "markdown",
   "metadata": {},
   "source": [
    "SELECT FOOD  DESCRIPTIONS"
   ]
  },
  {
   "cell_type": "code",
   "execution_count": null,
   "metadata": {},
   "outputs": [],
   "source": []
  },
  {
   "cell_type": "code",
   "execution_count": null,
   "metadata": {},
   "outputs": [],
   "source": []
  },
  {
   "cell_type": "code",
   "execution_count": null,
   "metadata": {},
   "outputs": [],
   "source": []
  },
  {
   "cell_type": "code",
   "execution_count": 23,
   "metadata": {},
   "outputs": [],
   "source": [
    "food_descriptions = driver.find_elements(By.CSS_SELECTOR, 'div.sc-8370928c-0.kzJmQw > div > span')\n",
    "# Iterate over the list of web elements and print their text\n",
    "for description in food_descriptions:\n",
    "    print(description.text)"
   ]
  },
  {
   "attachments": {},
   "cell_type": "markdown",
   "metadata": {},
   "source": [
    "GET PRICE"
   ]
  },
  {
   "cell_type": "code",
   "execution_count": 24,
   "metadata": {},
   "outputs": [
    {
     "name": "stdout",
     "output_type": "stream",
     "text": [
      "$14.75\n",
      "•\n",
      "\n",
      "$16.00\n",
      "$16.25\n",
      "$17.00\n",
      "$14.75\n",
      "•\n",
      "\n",
      "$15.25\n",
      "$5.00\n",
      "$4.00\n",
      "$4.00\n",
      "$13.75\n",
      "$6.00\n",
      "$7.00\n",
      "$6.00\n",
      "$4.00\n",
      "$4.00\n",
      "$5.00\n",
      "$17.00\n",
      "$16.00\n",
      "$9.75\n"
     ]
    }
   ],
   "source": [
    "prices = driver.find_elements(By.CSS_SELECTOR, '.sc-8370928c-0.kzJmQw div.InlineChildren__StyledInlineChildren-sc-6r2tfo-0.dRqGTX > div > div > span > div > span')\n",
    "# Iterate over the list of web elements and print their text\n",
    "for price in prices:\n",
    "    print(price.text)"
   ]
  },
  {
   "attachments": {},
   "cell_type": "markdown",
   "metadata": {},
   "source": [
    "GET IMG LINKS\n"
   ]
  },
  {
   "cell_type": "code",
   "execution_count": 25,
   "metadata": {},
   "outputs": [
    {
     "name": "stdout",
     "output_type": "stream",
     "text": [
      "https://img.cdn4dd.com/p/fit=cover,width=1200,height=1200,format=auto,quality=90/media/photosV2/04c85384-34a0-4ef9-8c4d-d395645358c1-29d3ff1e-b439-428d-a4d9-da85d58671a6-retina-large.JPG\n",
      "https://img.cdn4dd.com/p/fit=cover,width=1200,height=1200,format=auto,quality=90/media/photosV2/5631cf8c-e917-4b95-99de-eeaf0843c332-0a5a9058-d2d3-4baf-8028-39d7a9b5989d-retina-large.JPG\n",
      "https://img.cdn4dd.com/p/fit=cover,width=1200,height=1200,format=auto,quality=90/media/photosV2/3771c434-da67-47fc-bc1d-2c94dc8b3bfc-a96ea271-3740-407f-9ee1-80882223ded2-retina-large.JPG\n",
      "https://img.cdn4dd.com/p/fit=cover,width=1200,height=1200,format=auto,quality=90/media/photosV2/57193852-2d3d-48a5-bf66-aa54a0d5b332-retina-large.jpg\n",
      "https://img.cdn4dd.com/p/fit=cover,width=1200,height=1200,format=auto,quality=90/media/photosV2/5d1c26d1-f374-489c-991d-dcc2ddd035c6-e19ba3bf-cf99-4a2b-bce5-314cc8de216c-retina-large.JPG\n",
      "https://img.cdn4dd.com/p/fit=cover,width=1200,height=1200,format=auto,quality=90/media/photosV2/76b45109-d0a4-4e90-a061-99b90045c550-b93da0c7-1568-42a6-b918-89de4030e8ec-retina-large.JPG\n",
      "https://img.cdn4dd.com/p/fit=cover,width=1200,height=1200,format=auto,quality=90/media/photosV2/8f7544ba-81ed-4042-9c68-a264b2d2871b-retina-large.JPG\n",
      "https://img.cdn4dd.com/p/fit=cover,width=1200,height=1200,format=auto,quality=90/media/photosV2/116c8bf3-d693-4eb5-95c9-5ca6a2faad5a-5af2795e-13f4-47e3-ba05-fdf55bba7a29-retina-large.JPG\n",
      "https://img.cdn4dd.com/p/fit=cover,width=1200,height=1200,format=auto,quality=90/media/photosV2/a22177d9-41d6-47cc-8ae7-a4fe292e9a1c-fee4974e-83d5-4dcf-84c0-82b51f6da836-retina-large.JPG\n",
      "https://img.cdn4dd.com/p/fit=cover,width=1200,height=1200,format=auto,quality=90/media/photosV2/f0ce71dc-07a6-45ed-9209-c7eee36b08e1-f89a6d6a-6815-48c0-bded-f2d91763e443-retina-large.JPG\n",
      "https://img.cdn4dd.com/p/fit=cover,width=1200,height=1200,format=auto,quality=90/media/photosV2/fb5a4334-5f24-44fa-a321-173b0c8830aa-8156cf12-4604-4cbc-872c-14f0e21c3c32-retina-large.JPG\n",
      "https://img.cdn4dd.com/p/fit=cover,width=1200,height=1200,format=auto,quality=90/media/photosV2/b85ebdb2-ae06-48cb-a79d-919f617861ef-2c8e6166-d90a-418a-8d7b-c07e49f04710-retina-large.JPG\n",
      "https://img.cdn4dd.com/p/fit=cover,width=1200,height=1200,format=auto,quality=90/media/photosV2/9568c935-9cb0-4cf3-85b9-ded4eb5810cf-4f3c5175-7b48-4cc2-b572-fdcc95b5bbf9-retina-large.jpg\n",
      "https://img.cdn4dd.com/p/fit=cover,width=1200,height=1200,format=auto,quality=90/media/photosV2/116c8bf3-d693-4eb5-95c9-5ca6a2faad5a-5af2795e-13f4-47e3-ba05-fdf55bba7a29-retina-large.JPG\n",
      "https://img.cdn4dd.com/p/fit=cover,width=1200,height=1200,format=auto,quality=90/media/photosV2/a22177d9-41d6-47cc-8ae7-a4fe292e9a1c-fee4974e-83d5-4dcf-84c0-82b51f6da836-retina-large.JPG\n",
      "https://img.cdn4dd.com/p/fit=cover,width=1200,height=1200,format=auto,quality=90/media/photosV2/6a7391e8-6cd6-4047-b4eb-ee34ad1cb156-53312983-f815-4822-aace-35d6b8ccb44c-retina-large.JPG\n",
      "https://img.cdn4dd.com/p/fit=cover,width=1200,height=1200,format=auto,quality=90/media/photosV2/57193852-2d3d-48a5-bf66-aa54a0d5b332-retina-large.jpg\n",
      "https://img.cdn4dd.com/p/fit=cover,width=1200,height=1200,format=auto,quality=90/media/photosV2/5631cf8c-e917-4b95-99de-eeaf0843c332-0a5a9058-d2d3-4baf-8028-39d7a9b5989d-retina-large.JPG\n",
      "https://img.cdn4dd.com/p/fit=cover,width=1200,height=1200,format=auto,quality=90/media/photosV2/75fbf906-a07b-4b79-a5f7-e022a42ebd11-3f70829c-2e7c-4f65-9209-f076c7dc2bb5-retina-large.JPG\n"
     ]
    }
   ],
   "source": [
    "import urllib.request\n",
    "\n",
    "# Find the image element using selenium\n",
    "imgs = driver.find_elements(By.CSS_SELECTOR, '.sc-31297892-1.hKyAGk > div > picture > img')\n",
    "\n",
    "# Get the src attribute of the image element which is the url of the image\n",
    "for img in imgs:\n",
    "    link = img.get_attribute(\"src\")\n",
    "    print(link)\n"
   ]
  },
  {
   "attachments": {},
   "cell_type": "markdown",
   "metadata": {},
   "source": [
    "SAVE IMGS FROM LINKS BY \n",
    "setting a user-agent to mimic a browser request."
   ]
  },
  {
   "cell_type": "code",
   "execution_count": 128,
   "metadata": {},
   "outputs": [
    {
     "data": {
      "text/plain": [
       "('local_filename.jpg', <http.client.HTTPMessage at 0x24bf0b81ba0>)"
      ]
     },
     "execution_count": 128,
     "metadata": {},
     "output_type": "execute_result"
    }
   ],
   "source": [
    "import urllib.request\n",
    "\n",
    "opener = urllib.request.build_opener()\n",
    "opener.addheaders = [('User-agent', 'Mozilla/5.0 (Windows NT 10.0; Win64; x64) AppleWebKit/537.36 (KHTML, like Gecko) Chrome/58.0.3029.110 Safari/537')]\n",
    "urllib.request.install_opener(opener)\n",
    "\n",
    "img_url = 'https://img.cdn4dd.com/p/fit=cover,width=1200,height=1200,format=auto,quality=90/media/photos/6b53872c-73a7-4b1d-97a3-79804a8bb2fe-retina-large.jpg'\n",
    "urllib.request.urlretrieve(img_url, 'local_filename.jpg')\n"
   ]
  },
  {
   "cell_type": "code",
   "execution_count": null,
   "metadata": {},
   "outputs": [],
   "source": []
  },
  {
   "cell_type": "code",
   "execution_count": null,
   "metadata": {},
   "outputs": [],
   "source": []
  },
  {
   "cell_type": "code",
   "execution_count": null,
   "metadata": {},
   "outputs": [],
   "source": []
  },
  {
   "cell_type": "code",
   "execution_count": null,
   "metadata": {},
   "outputs": [],
   "source": []
  },
  {
   "cell_type": "code",
   "execution_count": null,
   "metadata": {},
   "outputs": [],
   "source": []
  },
  {
   "cell_type": "code",
   "execution_count": null,
   "metadata": {},
   "outputs": [],
   "source": []
  },
  {
   "cell_type": "code",
   "execution_count": null,
   "metadata": {},
   "outputs": [],
   "source": []
  },
  {
   "cell_type": "code",
   "execution_count": null,
   "metadata": {},
   "outputs": [],
   "source": []
  },
  {
   "cell_type": "code",
   "execution_count": null,
   "metadata": {},
   "outputs": [],
   "source": []
  },
  {
   "cell_type": "code",
   "execution_count": null,
   "metadata": {},
   "outputs": [],
   "source": []
  },
  {
   "cell_type": "code",
   "execution_count": null,
   "metadata": {},
   "outputs": [],
   "source": []
  },
  {
   "cell_type": "code",
   "execution_count": null,
   "metadata": {},
   "outputs": [],
   "source": []
  },
  {
   "cell_type": "code",
   "execution_count": null,
   "metadata": {},
   "outputs": [],
   "source": []
  },
  {
   "cell_type": "code",
   "execution_count": null,
   "metadata": {},
   "outputs": [],
   "source": []
  },
  {
   "cell_type": "code",
   "execution_count": null,
   "metadata": {},
   "outputs": [],
   "source": []
  },
  {
   "cell_type": "code",
   "execution_count": null,
   "metadata": {},
   "outputs": [],
   "source": []
  },
  {
   "cell_type": "code",
   "execution_count": null,
   "metadata": {},
   "outputs": [],
   "source": []
  },
  {
   "cell_type": "code",
   "execution_count": null,
   "metadata": {},
   "outputs": [],
   "source": []
  },
  {
   "cell_type": "code",
   "execution_count": null,
   "metadata": {},
   "outputs": [],
   "source": []
  },
  {
   "cell_type": "code",
   "execution_count": null,
   "metadata": {},
   "outputs": [],
   "source": []
  },
  {
   "cell_type": "code",
   "execution_count": null,
   "metadata": {},
   "outputs": [],
   "source": []
  },
  {
   "cell_type": "code",
   "execution_count": null,
   "metadata": {},
   "outputs": [],
   "source": []
  },
  {
   "cell_type": "code",
   "execution_count": null,
   "metadata": {},
   "outputs": [],
   "source": []
  },
  {
   "cell_type": "code",
   "execution_count": null,
   "metadata": {},
   "outputs": [],
   "source": []
  },
  {
   "cell_type": "code",
   "execution_count": 4,
   "metadata": {},
   "outputs": [],
   "source": [
    "logging.basicConfig(format=\"%(asctime)s - [%(levelname)s]\\t%(message)s\",\n",
    "                    datefmt='%d-%b-%y %H:%M:%S')\n"
   ]
  },
  {
   "cell_type": "code",
   "execution_count": 8,
   "metadata": {},
   "outputs": [],
   "source": [
    "url = 'https://www.grubhub.com/search?orderMethod=pickup&locationMode=PICKUP&facetSet=umamiV6&pageSize=20&hideHateos=true&searchMetrics=true&latitude=40.72456359&longitude=-74.00174714&preciseLocation=true&geohash=dr5rsj9tf2cu&dinerLocation=POINT(-74.00174714%2040.72456359)&sorts=distance&radius=1&includeOffers=true&sortSetId=umamiv3&sponsoredSize=3&countOmittingTimes=true&tab=all'"
   ]
  },
  {
   "cell_type": "code",
   "execution_count": 6,
   "metadata": {},
   "outputs": [],
   "source": [
    "# Boroughs and neighbourhoods\n",
    "\n",
    "# Manhattan\n",
    "\n",
    "# Financial District\n",
    "# Greenwich Village and Soho\n",
    "# Lower East Side and Chinatown\n",
    "# Clinton and Chelsea\n",
    "# Midtown\n",
    "# Stuyvesant Town and Turtle Bay\n",
    "# Upper West Side\n",
    "# Upper East Side\n",
    "# Morningside Heights and Hamilton Heights\n",
    "# Central Harlem\n",
    "# East Harlem\n",
    "# Washington Heights and Inwood\n",
    "\n",
    "# Bronx\n",
    "\n",
    "# Mott Haven and Melrose\n",
    "# Hunts Point and Longwood\n",
    "# Morrisania and Crotona\n",
    "# Highbridge and Concourse\n",
    "# Fordham and University Heights\n",
    "# Belmont and East Tremont\n",
    "# Kingsbridge Heights and Bedford\n",
    "# Riverdale and Fieldston\n",
    "# Parkchester and Soundview\n",
    "# Throgs Neck and Co-op City\n",
    "# Morris Park and Bronxdale\n",
    "# Williamsbridge and Baychester\n",
    "\n",
    "# Brooklyn\n",
    "\n",
    "# Greenpoint and Williamsburg\n",
    "# Fort Greene and Brooklyn Heights\n",
    "# Bedford Stuyvesant\n",
    "# Bushwick\n",
    "# East New York and Starrett City\n",
    "# Park Slope and Carroll Gardens\n",
    "# Sunset Park\n",
    "# Crown Heights and Prospect Heights\n",
    "# South Crown Heights and Lefferts Gardens\n",
    "# Bay Ridge and Dyker Heights\n",
    "# Bensonhurst\n",
    "# Borough Park\n",
    "# Coney Island\n",
    "# Flatbush and Midwood\n",
    "# Sheepshead Bay\n",
    "# Brownsville\n",
    "# East Flatbush\n",
    "# Flatlands and Canarsie\n",
    "\n",
    "# Queens\n",
    "\n",
    "# Long Island City and Astoria\n",
    "# Woodside and Sunnyside\n",
    "# Jackson Heights\n",
    "# Elmhurst and Corona\n",
    "# Ridgewood and Maspeth\n",
    "# Rego Park and Forest Hills\n",
    "# Flushing and Whitestone\n",
    "# Hillcrest and Fresh Meadows\n",
    "# Kew Gardens and Woodhaven\n",
    "# South Ozone Park and Howard Beach\n",
    "# Bayside and Little Neck\n",
    "# Jamaica and Hollis\n",
    "# Queens Village\n",
    "# Rockaway and Broad Channel\n",
    "\n",
    "# Staten Island\n",
    "\n",
    "# St. George and Stapleton\n",
    "# South Beach and Willowbrook\n",
    "# Tottenville and Great Kills\n"
   ]
  },
  {
   "cell_type": "code",
   "execution_count": 26,
   "metadata": {},
   "outputs": [],
   "source": [
    "raw = get(url, allow_redirects=True, headers=(\n",
    "    {\n",
    "        'user-agent': 'Mozilla/5.0 (Windows NT 10.0; Win64; x64) AppleWebKit/537.36 '\n",
    "                        '(KHTML, like Gecko) Chrome/102.0.5005.63 Safari/537.36',\n",
    "    }\n",
    "))\n",
    "\n",
    "status_code = raw.status_code\n",
    "reason = raw.reason\n",
    "\n",
    "if status_code != 200:\n",
    "    raise HTTPError(status_code, reason)\n",
    "\n",
    "soup = BeautifulSoup(raw.content, 'lxml')"
   ]
  },
  {
   "cell_type": "code",
   "execution_count": 33,
   "metadata": {},
   "outputs": [
    {
     "name": "stdout",
     "output_type": "stream",
     "text": [
      "['u-hidden', 'splash-screen']\n",
      "['splash-screen-logo']\n",
      "['splash-screen-dots']\n",
      "['mainNav']\n",
      "['mainNav']\n",
      "['mainNavCol', 'mainNavBrand']\n",
      "['errorPage-container']\n",
      "['stars1']\n",
      "['stars2']\n",
      "['stars3']\n",
      "['errorPage', 'errorPage', 'errorPage--notFound']\n",
      "['errorPage-reasons']\n",
      "['errorPage-image']\n"
     ]
    }
   ],
   "source": [
    "# Find all div tags\n",
    "divs = soup.find_all('div')\n",
    "\n",
    "for div in divs:\n",
    "    # Get class attributes\n",
    "    class_attr = div.get('class')\n",
    "    if class_attr:\n",
    "        print(class_attr)"
   ]
  },
  {
   "cell_type": "code",
   "execution_count": 45,
   "metadata": {},
   "outputs": [],
   "source": [
    "links = soup.find(text='restaurant-card')"
   ]
  },
  {
   "cell_type": "code",
   "execution_count": 49,
   "metadata": {},
   "outputs": [],
   "source": [
    "soup.i"
   ]
  },
  {
   "cell_type": "code",
   "execution_count": 43,
   "metadata": {},
   "outputs": [],
   "source": [
    "# Find all restaurant cards\n",
    "restaurant_cards = soup.find_all('div', {'class': 'restaurant-card'})\n",
    "\n",
    "# Loop through restaurant cards\n",
    "for card in restaurant_cards:\n",
    "    # Get the link to the restaurant's page\n",
    "    link = card.find('a')['href']\n",
    "\n",
    "    # Navigate to the restaurant's page\n",
    "    driver.get(link)"
   ]
  },
  {
   "cell_type": "code",
   "execution_count": 44,
   "metadata": {},
   "outputs": [
    {
     "name": "stdout",
     "output_type": "stream",
     "text": [
      "[]\n"
     ]
    }
   ],
   "source": []
  },
  {
   "cell_type": "code",
   "execution_count": null,
   "metadata": {},
   "outputs": [],
   "source": []
  }
 ],
 "metadata": {
  "kernelspec": {
   "display_name": "food_dubai2",
   "language": "python",
   "name": "python3"
  },
  "language_info": {
   "codemirror_mode": {
    "name": "ipython",
    "version": 3
   },
   "file_extension": ".py",
   "mimetype": "text/x-python",
   "name": "python",
   "nbconvert_exporter": "python",
   "pygments_lexer": "ipython3",
   "version": "3.10.9"
  },
  "orig_nbformat": 4
 },
 "nbformat": 4,
 "nbformat_minor": 2
}
