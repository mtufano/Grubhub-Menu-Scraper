{
 "cells": [
  {
   "cell_type": "code",
   "execution_count": 3,
   "metadata": {},
   "outputs": [],
   "source": [
    "import inspect\n",
    "import json\n",
    "import logging\n",
    "import os.path as path\n",
    "from json import loads\n",
    "from os import makedirs\n",
    "from pathlib import Path\n",
    "import csv\n",
    "import os\n",
    "import validators\n",
    "from bs4 import BeautifulSoup\n",
    "from pandas import DataFrame, read_csv, concat\n",
    "from requests import get, HTTPError"
   ]
  },
  {
   "cell_type": "code",
   "execution_count": 4,
   "metadata": {},
   "outputs": [],
   "source": [
    "logging.basicConfig(format=\"%(asctime)s - [%(levelname)s]\\t%(message)s\",\n",
    "                    datefmt='%d-%b-%y %H:%M:%S')\n"
   ]
  },
  {
   "cell_type": "code",
   "execution_count": 8,
   "metadata": {},
   "outputs": [],
   "source": [
    "url = 'https://www.grubhub.com/search?orderMethod=pickup&locationMode=PICKUP&facetSet=umamiV6&pageSize=20&hideHateos=true&searchMetrics=true&latitude=40.72456359&longitude=-74.00174714&preciseLocation=true&geohash=dr5rsj9tf2cu&dinerLocation=POINT(-74.00174714%2040.72456359)&sorts=distance&radius=1&includeOffers=true&sortSetId=umamiv3&sponsoredSize=3&countOmittingTimes=true&tab=all'"
   ]
  },
  {
   "cell_type": "code",
   "execution_count": 6,
   "metadata": {},
   "outputs": [],
   "source": [
    "# Boroughs and neighbourhoods\n",
    "\n",
    "# Manhattan\n",
    "\n",
    "# Financial District\n",
    "# Greenwich Village and Soho\n",
    "# Lower East Side and Chinatown\n",
    "# Clinton and Chelsea\n",
    "# Midtown\n",
    "# Stuyvesant Town and Turtle Bay\n",
    "# Upper West Side\n",
    "# Upper East Side\n",
    "# Morningside Heights and Hamilton Heights\n",
    "# Central Harlem\n",
    "# East Harlem\n",
    "# Washington Heights and Inwood\n",
    "\n",
    "# Bronx\n",
    "\n",
    "# Mott Haven and Melrose\n",
    "# Hunts Point and Longwood\n",
    "# Morrisania and Crotona\n",
    "# Highbridge and Concourse\n",
    "# Fordham and University Heights\n",
    "# Belmont and East Tremont\n",
    "# Kingsbridge Heights and Bedford\n",
    "# Riverdale and Fieldston\n",
    "# Parkchester and Soundview\n",
    "# Throgs Neck and Co-op City\n",
    "# Morris Park and Bronxdale\n",
    "# Williamsbridge and Baychester\n",
    "\n",
    "# Brooklyn\n",
    "\n",
    "# Greenpoint and Williamsburg\n",
    "# Fort Greene and Brooklyn Heights\n",
    "# Bedford Stuyvesant\n",
    "# Bushwick\n",
    "# East New York and Starrett City\n",
    "# Park Slope and Carroll Gardens\n",
    "# Sunset Park\n",
    "# Crown Heights and Prospect Heights\n",
    "# South Crown Heights and Lefferts Gardens\n",
    "# Bay Ridge and Dyker Heights\n",
    "# Bensonhurst\n",
    "# Borough Park\n",
    "# Coney Island\n",
    "# Flatbush and Midwood\n",
    "# Sheepshead Bay\n",
    "# Brownsville\n",
    "# East Flatbush\n",
    "# Flatlands and Canarsie\n",
    "\n",
    "# Queens\n",
    "\n",
    "# Long Island City and Astoria\n",
    "# Woodside and Sunnyside\n",
    "# Jackson Heights\n",
    "# Elmhurst and Corona\n",
    "# Ridgewood and Maspeth\n",
    "# Rego Park and Forest Hills\n",
    "# Flushing and Whitestone\n",
    "# Hillcrest and Fresh Meadows\n",
    "# Kew Gardens and Woodhaven\n",
    "# South Ozone Park and Howard Beach\n",
    "# Bayside and Little Neck\n",
    "# Jamaica and Hollis\n",
    "# Queens Village\n",
    "# Rockaway and Broad Channel\n",
    "\n",
    "# Staten Island\n",
    "\n",
    "# St. George and Stapleton\n",
    "# South Beach and Willowbrook\n",
    "# Tottenville and Great Kills\n"
   ]
  },
  {
   "cell_type": "code",
   "execution_count": 26,
   "metadata": {},
   "outputs": [],
   "source": [
    "raw = get(url, allow_redirects=True, headers=(\n",
    "    {\n",
    "        'user-agent': 'Mozilla/5.0 (Windows NT 10.0; Win64; x64) AppleWebKit/537.36 '\n",
    "                        '(KHTML, like Gecko) Chrome/102.0.5005.63 Safari/537.36',\n",
    "    }\n",
    "))\n",
    "\n",
    "status_code = raw.status_code\n",
    "reason = raw.reason\n",
    "\n",
    "if status_code != 200:\n",
    "    raise HTTPError(status_code, reason)\n",
    "\n",
    "soup = BeautifulSoup(raw.content, 'lxml')"
   ]
  },
  {
   "cell_type": "code",
   "execution_count": 33,
   "metadata": {},
   "outputs": [
    {
     "name": "stdout",
     "output_type": "stream",
     "text": [
      "['u-hidden', 'splash-screen']\n",
      "['splash-screen-logo']\n",
      "['splash-screen-dots']\n",
      "['mainNav']\n",
      "['mainNav']\n",
      "['mainNavCol', 'mainNavBrand']\n",
      "['errorPage-container']\n",
      "['stars1']\n",
      "['stars2']\n",
      "['stars3']\n",
      "['errorPage', 'errorPage', 'errorPage--notFound']\n",
      "['errorPage-reasons']\n",
      "['errorPage-image']\n"
     ]
    }
   ],
   "source": [
    "# Find all div tags\n",
    "divs = soup.find_all('div')\n",
    "\n",
    "for div in divs:\n",
    "    # Get class attributes\n",
    "    class_attr = div.get('class')\n",
    "    if class_attr:\n",
    "        print(class_attr)"
   ]
  },
  {
   "cell_type": "code",
   "execution_count": 38,
   "metadata": {},
   "outputs": [],
   "source": [
    "links = soup.find_all('span', class_='restaurant-card')"
   ]
  },
  {
   "cell_type": "code",
   "execution_count": 43,
   "metadata": {},
   "outputs": [],
   "source": [
    "# Find all restaurant cards\n",
    "restaurant_cards = soup.find_all('div', {'class': 'restaurant-card'})\n",
    "\n",
    "# Loop through restaurant cards\n",
    "for card in restaurant_cards:\n",
    "    # Get the link to the restaurant's page\n",
    "    link = card.find('a')['href']\n",
    "\n",
    "    # Navigate to the restaurant's page\n",
    "    driver.get(link)"
   ]
  },
  {
   "cell_type": "code",
   "execution_count": 44,
   "metadata": {},
   "outputs": [
    {
     "name": "stdout",
     "output_type": "stream",
     "text": [
      "[]\n"
     ]
    }
   ],
   "source": []
  },
  {
   "cell_type": "code",
   "execution_count": null,
   "metadata": {},
   "outputs": [],
   "source": []
  }
 ],
 "metadata": {
  "kernelspec": {
   "display_name": "food_dubai2",
   "language": "python",
   "name": "python3"
  },
  "language_info": {
   "codemirror_mode": {
    "name": "ipython",
    "version": 3
   },
   "file_extension": ".py",
   "mimetype": "text/x-python",
   "name": "python",
   "nbconvert_exporter": "python",
   "pygments_lexer": "ipython3",
   "version": "3.10.9"
  },
  "orig_nbformat": 4
 },
 "nbformat": 4,
 "nbformat_minor": 2
}
